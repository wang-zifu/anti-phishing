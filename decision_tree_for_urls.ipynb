{
 "cells": [
  {
   "cell_type": "code",
   "execution_count": null,
   "metadata": {
    "collapsed": true
   },
   "outputs": [],
   "source": [
    "from requests import get\n",
    "from os import listdir\n",
    "import pandas as pd\n",
    "import numpy as np\n",
    "from pandas.io.json import json_normalize\n",
    "import seaborn as sns\n",
    "import matplotlib.pyplot as plt\n",
    "import math\n",
    "from datetime import datetime\n",
    "plt.rcParams[\"figure.figsize\"] = (20,20)"
   ]
  },
  {
   "cell_type": "code",
   "execution_count": null,
   "outputs": [],
   "source": [
    "## This gets elite proxy from https://pypi.org/project/fake-useragent/ on every request\n",
    "class Pooling(object):\n",
    "\tdef __init__(self):\n",
    "\t\tself.proxies_url = ''\n",
    "\n",
    "\t'''returns a list of currently available elite proxies'''\n",
    "\tdef proxy_pool(self, url = 'https://free-proxy-list.net/'):\n",
    "\t\tpq, proxies = get_page(url), []\n",
    "\t\ttr = pq('table#proxylisttable.table tbody tr')\n",
    "\t\trows = [j.text() for j in [PyQuery(i)('td') for i in tr]]\n",
    "\t\trows = [i for i in rows if 'elite' in i]\n",
    "\n",
    "\t\tfor row in rows:\n",
    "\n",
    "\t\t\trow = row.split()\n",
    "\t\t\tdata = {}\n",
    "\t\t\tdata['ip'] = row[0]\n",
    "\t\t\tdata['port'] = row[1]\n",
    "\t\t\tdata['country'] = row[3]\n",
    "\t\t\tdata['proxy'] = {\n",
    "\t\t\t\t'http' :'http://{}:{}'.format(data['ip'], data['port']),\n",
    "\t\t\t\t'https' :'https://{}:{}'.format(data['ip'], data['port'])\n",
    "\t\t\t}\n",
    "\t\t\tproxies.append(data)\n",
    "\t\treturn choice(proxies)\n",
    "\n",
    "\t'''return a random list of user agents'''\n",
    "\tdef ua_pool(self):\n",
    "\t\tua = UserAgent()\n",
    "\t\tchromes = ua.data['browsers']['chrome'][5:40]\n",
    "\t\tshuffle(chromes)\n",
    "\t\treturn choice(chromes)"
   ],
   "metadata": {
    "collapsed": false,
    "pycharm": {
     "name": "#%%\n"
    }
   }
  },
  {
   "cell_type": "code",
   "execution_count": null,
   "outputs": [],
   "source": [
    "\n",
    "# This creates a feature vector from a URL\n",
    "class UrlFeaturizer(object):\n",
    "    def __init__(self, url):\n",
    "        self.url = url \n",
    "        self.domain = url.split('//')[-1].split('/')[0]\n",
    "        self.today = datetime.now()\n",
    "        \n",
    "        try:\n",
    "            self.whois = whois.query(self.domain).__dict__\n",
    "        except:\n",
    "            self.whois = None\n",
    "        \n",
    "        try:\n",
    "            self.response = get(self.url)\n",
    "            self.pq = PyQuery(self.response.text)\n",
    "        except:\n",
    "            self.response = None\n",
    "            self.pq = None\n",
    "            \n",
    "    ## URL string Features\n",
    "    def entropy(self):\n",
    "        string = self.url.strip()\n",
    "        prob = [float(string.count(c)) / len(string) for c in dict.fromkeys(list(string))]\n",
    "        entropy = sum([(p * math.log(p) / math.log(2.0)) for p in prob])\n",
    "        return entropy\n",
    "    \n",
    "    def numDigits(self):\n",
    "        digits = [i for i in self.url if i.isdigit()]\n",
    "        return len(digits)\n",
    "    \n",
    "    def urlLength(self):\n",
    "        return len(self.url)\n",
    "    \n",
    "    def numParameters(self):\n",
    "        params = self.url.split('&')\n",
    "        return len(params) - 1\n",
    "    \n",
    "    def numFragments(self):\n",
    "        fragments = self.url.split('#')\n",
    "        return len(fragments) - 1\n",
    "    \n",
    "    def numSubDomains(self):\n",
    "        subdomains = self.url.split('http')[-1].split('//')[-1].split('/')\n",
    "        return len(subdomains)-1\n",
    "    \n",
    "    def domainExtension(self):\n",
    "        ext = self.url.split('.')[-1].split('/')[0]\n",
    "        return ext\n",
    "    \n",
    "    ## URL domain features\n",
    "    def hasHttp(self):\n",
    "        return 'http:' in self.url \n",
    "\n",
    "    def hasHttps(self):\n",
    "        return 'https:' in self.url \n",
    "\n",
    "    def urlIsLive(self):\n",
    "        return self.response == 200\n",
    "    \n",
    "    def daysSinceRegistration(self):\n",
    "        if self.whois and self.whois['creation_date']:\n",
    "            diff = self.today - self.whois['creation_date']\n",
    "            diff = str(diff).split(' days')[0]\n",
    "            return diff\n",
    "        else:\n",
    "            return 0\n",
    "\n",
    "    def daysSinceExpiration(self):\n",
    "        if self.whois and self.whois['expiration_date']:\n",
    "            diff = self.whois['expiration_date'] - self.today\n",
    "            diff = str(diff).split(' days')[0]\n",
    "            return diff\n",
    "        else:\n",
    "            return 0\n",
    "    \n",
    "    ## URL Page Features\n",
    "    def bodyLength(self):\n",
    "        if self.pq is not None:\n",
    "            return len(self.pq('html').text()) if self.urlIsLive else 0\n",
    "        else:\n",
    "            return 0\n",
    "\n",
    "    def numTitles(self):\n",
    "        if self.pq is not None:\n",
    "            titles = ['h{}'.format(i) for i in range(7)]\n",
    "            titles = [self.pq(i).items() for i in titles]\n",
    "            return len([item for s in titles for item in s])\n",
    "        else:\n",
    "            return 0\n",
    "\n",
    "    def numImages(self):\n",
    "        if self.pq is not None:\n",
    "            return len([i for i in self.pq('img').items()])\n",
    "        else:\n",
    "            return 0\n",
    "\n",
    "    def numLinks(self):\n",
    "        if self.pq is not None:\n",
    "            return len([i for i in self.pq('a').items()])\n",
    "        else:\n",
    "            return 0\n",
    "        \n",
    "    def scriptLength(self):\n",
    "        if self.pq is not None:\n",
    "            return len(self.pq('script').text())\n",
    "        else:\n",
    "            return 0\n",
    "        \n",
    "    def specialCharacters(self):\n",
    "        if self.pq is not None:\n",
    "            bodyText = self.pq('html').text()\n",
    "            schars = [i for i in bodyText if not i.isdigit() and not i.isalpha()]\n",
    "            return len(schars)\n",
    "        else:\n",
    "            return 0\n",
    "        \n",
    "    def scriptToSpecialCharsRatio(self):\n",
    "        if self.pq is not None:\n",
    "            sscr = self.scriptLength()/self.specialCharacters\n",
    "        else:\n",
    "            sscr = 0\n",
    "        return sscr\n",
    "    \n",
    "    def scriptTobodyRatio(self):\n",
    "        if self.pq is not None:\n",
    "            sbr = self.scriptLength()/self.bodyLength\n",
    "        else:\n",
    "            sbr = 0\n",
    "        return sbr\n",
    "    \n",
    "    def bodyToSpecialCharRatio(self):\n",
    "        if self.pq is not None:\n",
    "            bscr = self.specialCharacters()/self.bodyLength\n",
    "        else:\n",
    "            bscr = 0\n",
    "        return bscr\n",
    "        \n",
    "    def run(self):\n",
    "        data = {}\n",
    "        data['entropy'] = self.entropy()\n",
    "        data['numDigits'] = self.numDigits()\n",
    "        data['urlLength'] = self.urlLength()\n",
    "        data['numParams'] = self.numParameters()\n",
    "        data['hasHttp'] = self.hasHttp()\n",
    "        data['hasHttps'] = self.hasHttps()\n",
    "        data['urlIsLive'] = self.urlIsLive()\n",
    "        data['bodyLength'] = self.bodyLength()\n",
    "        data['numTitles'] = self.numTitles()\n",
    "        data['numImages'] = self.numImages()\n",
    "        data['numLinks'] = self.numLinks()\n",
    "        data['scriptLength'] = self.scriptLength()\n",
    "        data['specialChars'] = self.specialCharacters()\n",
    "        data['ext'] = self.domainExtension()\n",
    "        data['dsr'] = self.daysSinceRegistration()\n",
    "        data['dse'] = self.daysSinceExpiration()\n",
    "        data['sscr'] = self.scriptToSpecialCharsRatio()\n",
    "        data['sbr'] = self.scriptTobodyRatio()\n",
    "        data['bscr'] = self.bodyToSpecialCharRatio()\n",
    "        return data"
   ],
   "metadata": {
    "collapsed": false,
    "pycharm": {
     "name": "#%%\n"
    }
   }
  },
  {
   "cell_type": "code",
   "execution_count": null,
   "outputs": [],
   "source": [
    "objects = [i for i in data.columns if 'object' in str(data.dtypes[i])]\n",
    "booleans = [i for i in data.columns if 'bool' in str(data.dtypes[i])]\n",
    "ints = [i for i in data.columns if 'int' in str(data.dtypes[i]) or 'float' in str(data.dtypes[i])]"
   ],
   "metadata": {
    "collapsed": false,
    "pycharm": {
     "name": "#%%\n"
    }
   }
  },
  {
   "cell_type": "code",
   "execution_count": null,
   "outputs": [],
   "source": [
    "corr = data[ints+booleans].corr()\n",
    "# Generate a mask for the upper triangle\n",
    "mask = np.triu(np.ones_like(corr, dtype=np.bool))\n",
    "# Set up the matplotlib figure\n",
    "f, ax = plt.subplots(figsize=(20, 15))\n",
    "# Generate a custom diverging colormap\n",
    "cmap = sns.diverging_palette(220, 10, as_cmap=True)\n",
    "# Draw the heatmap with the mask and correct aspect ratio\n",
    "sns.heatmap(corr, mask=mask, cmap=cmap, vmax=.3, center=0,\n",
    "            square=True, linewidths=.5, cbar_kws={\"shrink\": .5}, annot=True)\n",
    "\n"
   ],
   "metadata": {
    "collapsed": false,
    "pycharm": {
     "name": "#%%\n"
    }
   }
  },
  {
   "cell_type": "code",
   "execution_count": null,
   "outputs": [],
   "source": [
    "def dropMultiCorrelated(cormat, threshold):\n",
    "    ## Define threshold to remove pairs of features with correlation coefficient greater than 0.7 or -0.7\n",
    "    threshold = 0.7\n",
    "\n",
    "    # Select upper triangle of correlation matrix\n",
    "    upper = cormat.abs().where(np.triu(np.ones(cormat.shape), k=1).astype(np.bool))\n",
    "\n",
    "    # Find index of feature columns with correlation greater than threshold\n",
    "    to_drop = [column for column in upper.columns if any(upper[column] > threshold)]\n",
    "    for d in to_drop:\n",
    "        print(\"Dropping {}....\".format(d))\n",
    "    return to_drop\n",
    "\n",
    "data2 = data[corr.columns].drop(dropMultiCorrelated(corr, 0.7), axis=1)\n"
   ],
   "metadata": {
    "collapsed": false,
    "pycharm": {
     "name": "#%%\n"
    }
   }
  },
  {
   "cell_type": "code",
   "execution_count": null,
   "outputs": [],
   "source": [
    "predictor_columns = data2.columns\n",
    "d = data2[predictor_columns]\n",
    "x, y = d[predictor_columns], data['vt_class']\n"
   ],
   "metadata": {
    "collapsed": false,
    "pycharm": {
     "name": "#%%\n"
    }
   }
  },
  {
   "cell_type": "code",
   "execution_count": null,
   "outputs": [],
   "source": [
    "from sklearn.model_selection import train_test_split\n",
    "X_train, X_test, y_train, y_test = train_test_split(x, y, test_size = 0.3, random_state = 100)\n"
   ],
   "metadata": {
    "collapsed": false,
    "pycharm": {
     "name": "#%%\n"
    }
   }
  },
  {
   "cell_type": "code",
   "execution_count": null,
   "outputs": [],
   "source": [
    "from sklearn import tree\n",
    "from sklearn.metrics import accuracy_score\n",
    "from sklearn.externals.six import StringIO  \n",
    "from IPython.display import Image  \n",
    "from sklearn.tree import export_graphviz\n",
    "import pydotplus"
   ],
   "metadata": {
    "collapsed": false,
    "pycharm": {
     "name": "#%%\n"
    }
   }
  },
  {
   "cell_type": "code",
   "execution_count": null,
   "outputs": [],
   "source": [
    "maxd, gini, entropy = [], [], []\n",
    "for i in range(1,50):\n",
    "    ###\n",
    "    dtree = tree.DecisionTreeClassifier(criterion='gini', max_depth=i)\n",
    "    dtree.fit(X_train, y_train)\n",
    "    pred = dtree.predict(X_test)\n",
    "    gini.append(accuracy_score(y_test, pred))\n",
    "    \n",
    "    ####\n",
    "    dtree = tree.DecisionTreeClassifier(criterion='entropy', max_depth=i)\n",
    "    dtree.fit(X_train, y_train)\n",
    "    pred = dtree.predict(X_test)\n",
    "    entropy.append(accuracy_score(y_test, pred))\n",
    "    \n",
    "    ####\n",
    "    maxd.append(i)\n",
    "    \n",
    "####\n",
    "d = pd.DataFrame({'gini':pd.Series(gini), 'entropy':pd.Series(entropy), 'max_depth':pd.Series(maxd)})\n",
    "# visualizing changes in parameters\n",
    "plt.plot('max_depth','gini', data=d, label='Gini Index')\n",
    "plt.plot('max_depth','entropy', data=d, label='Entropy')\n",
    "plt.xlabel('Max Depth')\n",
    "plt.ylabel('Accuracy')\n",
    "plt.legend()\n"
   ],
   "metadata": {
    "collapsed": false,
    "pycharm": {
     "name": "#%%\n"
    }
   }
  },
  {
   "cell_type": "code",
   "execution_count": null,
   "outputs": [],
   "source": [
    "###create decision tree classifier object\n",
    "DT = tree.DecisionTreeClassifier(criterion=\"gini\", max_depth=4)\n",
    "##fit decision tree model with training data\n",
    "DT.fit(X_train, y_train)\n",
    "##test data prediction\n",
    "DT_expost_preds = DT.predict(X_test)\n"
   ],
   "metadata": {
    "collapsed": false,
    "pycharm": {
     "name": "#%%\n"
    }
   }
  },
  {
   "cell_type": "code",
   "execution_count": null,
   "outputs": [],
   "source": [
    "dot_data = StringIO()\n",
    "export_graphviz(DT, out_file=dot_data,  \n",
    "                filled=True, rounded=True,\n",
    "                special_characters=True,feature_names=X_train.columns, class_names=DT.classes_)\n",
    "graph = pydotplus.graph_from_dot_data(dot_data.getvalue())  \n",
    "Image(graph.create_png())\n",
    "\n"
   ],
   "metadata": {
    "collapsed": false,
    "pycharm": {
     "name": "#%%\n"
    }
   }
  }
 ],
 "metadata": {
  "kernelspec": {
   "display_name": "Python 2",
   "language": "python",
   "name": "python2"
  },
  "language_info": {
   "codemirror_mode": {
    "name": "ipython",
    "version": 2
   },
   "file_extension": ".py",
   "mimetype": "text/x-python",
   "name": "python",
   "nbconvert_exporter": "python",
   "pygments_lexer": "ipython2",
   "version": "2.7.6"
  },
  "pycharm": {
   "stem_cell": {
    "cell_type": "raw",
    "source": [],
    "metadata": {
     "collapsed": false
    }
   }
  }
 },
 "nbformat": 4,
 "nbformat_minor": 0
}